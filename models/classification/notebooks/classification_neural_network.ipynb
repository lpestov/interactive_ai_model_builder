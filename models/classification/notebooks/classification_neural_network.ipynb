{
 "cells": [
  {
   "metadata": {
    "id": "aa68699bebffa450"
   },
   "cell_type": "markdown",
   "source": [
    "## Выбор модели для задач классификации\n",
    "\n",
    "Для задач классификации существует несколько способов выбора модели:\n",
    "\n",
    "1. **Обучить маленькую модель с нуля**: Выбор легковесной архитектуры модели и полное обучение её на нашем наборе данных.\n",
    "2. **Fine-Tuning предобученной модели**: Используем модель, которая была предобучена авторами на другом наборе данных, и только последние слои переобучается на нашем конкретном наборе данных.\n",
    "3. **Использовать предобученные веса напрямую**: В этом методе используется предобученная модель без дополнительного обучения.\n",
    "\n",
    "Лучшим вариантом является Fine-Tuning, поэтому в качестве бейзлайна возьмем маленькую (5.3M) EfficientNet B0 с претрейновыми параметрами\n",
    "\n",
    "[Оригинальная статья](https://arxiv.org/abs/1905.11946)"
   ],
   "id": "aa68699bebffa450"
  },
  {
   "metadata": {
    "id": "64d51ba3c49092bf"
   },
   "cell_type": "code",
   "outputs": [],
   "execution_count": 1,
   "source": [
    "import torch\n",
    "import torch.nn as nn\n",
    "import torch.optim as optim\n",
    "from torch.utils.data import DataLoader\n",
    "from torchvision import datasets, transforms\n",
    "from torchvision.models import efficientnet_b0, EfficientNet_B0_Weights"
   ],
   "id": "64d51ba3c49092bf"
  },
  {
   "cell_type": "code",
   "source": [
    "import os\n",
    "import zipfile"
   ],
   "metadata": {
    "id": "FkfKf0m2DMYi"
   },
   "id": "FkfKf0m2DMYi",
   "execution_count": 2,
   "outputs": []
  },
  {
   "cell_type": "code",
   "source": [
    "from google.colab import drive\n",
    "\n",
    "drive.mount(\"/content/drive\")"
   ],
   "metadata": {
    "colab": {
     "base_uri": "https://localhost:8080/"
    },
    "id": "ySNAui8JDR_0",
    "outputId": "e03ccf1f-43b3-4025-f6f8-076e32cd9fe5"
   },
   "id": "ySNAui8JDR_0",
   "execution_count": 3,
   "outputs": [
    {
     "output_type": "stream",
     "name": "stdout",
     "text": [
      "Mounted at /content/drive\n"
     ]
    }
   ]
  },
  {
   "cell_type": "code",
   "source": [
    "local_zip = \"/content/drive/MyDrive/dogvscat_small.zip\"\n",
    "zip_ref = zipfile.ZipFile(local_zip, \"r\")\n",
    "zip_ref.extractall(\"/content/dataset\")\n",
    "zip_ref.close()"
   ],
   "metadata": {
    "id": "YP3zUyAgDjuG"
   },
   "id": "YP3zUyAgDjuG",
   "execution_count": 4,
   "outputs": []
  },
  {
   "cell_type": "code",
   "source": [
    "transform = transforms.Compose(\n",
    "    [\n",
    "        transforms.Resize((224, 224)),  # Размер входа в сеть\n",
    "        transforms.ToTensor(),\n",
    "        transforms.Normalize(\n",
    "            mean=[0.485, 0.456, 0.406], std=[0.229, 0.224, 0.225]\n",
    "        ),  # Нормализация\n",
    "    ]\n",
    ")\n",
    "\n",
    "train_dataset = datasets.ImageFolder(\n",
    "    \"/content/dataset/dogvscat_small/train\", transform=transform\n",
    ")\n",
    "test_dataset = datasets.ImageFolder(\n",
    "    \"/content/dataset/dogvscat_small/test\", transform=transform\n",
    ")\n",
    "\n",
    "train_loader = DataLoader(train_dataset, batch_size=8, shuffle=True)\n",
    "test_loader = DataLoader(test_dataset, batch_size=8, shuffle=False)\n",
    "\n",
    "# Проверка классов\n",
    "print(train_dataset.class_to_idx)  # {'dog': 0, 'cat': 1}"
   ],
   "metadata": {
    "colab": {
     "base_uri": "https://localhost:8080/"
    },
    "id": "yNKltStG526A",
    "outputId": "2282fdf7-00b5-4d1b-8778-e17dc7078939"
   },
   "id": "yNKltStG526A",
   "execution_count": 5,
   "outputs": [
    {
     "output_type": "stream",
     "name": "stdout",
     "text": [
      "{'cats': 0, 'dogs': 1}\n"
     ]
    }
   ]
  },
  {
   "cell_type": "code",
   "source": [
    "# Загрузка модели EfficientNet\n",
    "model = efficientnet_b0(EfficientNet_B0_Weights.DEFAULT)\n",
    "\n",
    "# Заморозка всех слоев, кроме последнего\n",
    "for param in model.parameters():\n",
    "    param.requires_grad = False\n",
    "\n",
    "# Замена финального классификатора\n",
    "num_features = model.classifier[1].in_features\n",
    "model.classifier = nn.Sequential(\n",
    "    nn.Linear(num_features, 128),\n",
    "    nn.ReLU(),\n",
    "    nn.Linear(128, 1),  # Бинарная классификация\n",
    "    nn.Sigmoid(),  # Для вероятностей\n",
    ")"
   ],
   "metadata": {
    "id": "G_aEiUeyGrWq",
    "colab": {
     "base_uri": "https://localhost:8080/"
    },
    "outputId": "f0e227f3-5aa0-4470-fa5d-986a63afd4dd"
   },
   "id": "G_aEiUeyGrWq",
   "execution_count": 9,
   "outputs": [
    {
     "output_type": "stream",
     "name": "stderr",
     "text": [
      "/usr/local/lib/python3.11/dist-packages/torchvision/models/_utils.py:135: UserWarning: Using 'weights' as positional parameter(s) is deprecated since 0.13 and may be removed in the future. Please use keyword parameter(s) instead.\n",
      "  warnings.warn(\n",
      "Downloading: \"https://download.pytorch.org/models/efficientnet_b0_rwightman-7f5810bc.pth\" to /root/.cache/torch/hub/checkpoints/efficientnet_b0_rwightman-7f5810bc.pth\n",
      "100%|██████████| 20.5M/20.5M [00:00<00:00, 94.3MB/s]\n"
     ]
    }
   ]
  },
  {
   "cell_type": "code",
   "source": [
    "device = torch.device(\"cuda\" if torch.cuda.is_available() else \"cpu\")\n",
    "model.to(device)\n",
    "\n",
    "criterion = nn.BCELoss()  # Для бинарной классификации\n",
    "optimizer = torch.optim.Adam(model.parameters(), lr=1e-4, weight_decay=1e-4)"
   ],
   "metadata": {
    "id": "QkRyX0igHntl"
   },
   "id": "QkRyX0igHntl",
   "execution_count": 10,
   "outputs": []
  },
  {
   "cell_type": "code",
   "source": [
    "num_epochs = 10\n",
    "\n",
    "for epoch in range(num_epochs):\n",
    "    # Тренировка\n",
    "    model.train()\n",
    "    train_loss = 0.0\n",
    "    for images, labels in train_loader:\n",
    "        images, labels = images.to(device), labels.to(device).float()\n",
    "\n",
    "        optimizer.zero_grad()\n",
    "        outputs = model(images).squeeze()\n",
    "        loss = criterion(outputs, labels)\n",
    "        loss.backward()\n",
    "        optimizer.step()\n",
    "\n",
    "        train_loss += loss.item()\n",
    "\n",
    "    # Валидация\n",
    "    model.eval()\n",
    "    val_loss = 0.0\n",
    "    correct = 0\n",
    "    total = 0\n",
    "    with torch.no_grad():\n",
    "        for images, labels in test_loader:\n",
    "            images, labels = images.to(device), labels.to(device).float()\n",
    "\n",
    "            outputs = model(images).squeeze()\n",
    "            loss = criterion(outputs, labels)\n",
    "            val_loss += loss.item()\n",
    "\n",
    "            predicted = (outputs > 0.5).float()\n",
    "            correct += (predicted == labels).sum().item()\n",
    "            total += labels.size(0)\n",
    "\n",
    "    train_loss /= len(train_loader)\n",
    "    val_loss /= len(test_loader)\n",
    "    accuracy = correct / total\n",
    "\n",
    "    print(\n",
    "        f\"Epoch {epoch+1}/{num_epochs}, Train Loss: {train_loss:.4f}, Val Loss: {val_loss:.4f}, Accuracy: {accuracy:.4f}\"\n",
    "    )"
   ],
   "metadata": {
    "colab": {
     "base_uri": "https://localhost:8080/"
    },
    "id": "LJW_VuPoHh74",
    "outputId": "f7f93fb4-a687-4c64-c4a4-be12d3ca2c22"
   },
   "id": "LJW_VuPoHh74",
   "execution_count": 11,
   "outputs": [
    {
     "output_type": "stream",
     "name": "stdout",
     "text": [
      "Epoch 1/10, Train Loss: 0.6808, Val Loss: 0.6583, Accuracy: 0.7830\n",
      "Epoch 2/10, Train Loss: 0.6396, Val Loss: 0.6263, Accuracy: 0.8770\n",
      "Epoch 3/10, Train Loss: 0.5779, Val Loss: 0.5874, Accuracy: 0.8930\n",
      "Epoch 4/10, Train Loss: 0.5548, Val Loss: 0.5487, Accuracy: 0.8960\n",
      "Epoch 5/10, Train Loss: 0.4854, Val Loss: 0.5046, Accuracy: 0.9050\n",
      "Epoch 6/10, Train Loss: 0.4187, Val Loss: 0.4675, Accuracy: 0.9080\n",
      "Epoch 7/10, Train Loss: 0.4038, Val Loss: 0.4354, Accuracy: 0.9090\n",
      "Epoch 8/10, Train Loss: 0.3512, Val Loss: 0.4019, Accuracy: 0.9050\n",
      "Epoch 9/10, Train Loss: 0.3315, Val Loss: 0.3848, Accuracy: 0.9110\n",
      "Epoch 10/10, Train Loss: 0.2941, Val Loss: 0.3569, Accuracy: 0.9170\n"
     ]
    }
   ]
  }
 ],
 "metadata": {
  "kernelspec": {
   "display_name": "Python 3",
   "name": "python3"
  },
  "language_info": {
   "codemirror_mode": {
    "name": "ipython",
    "version": 2
   },
   "file_extension": ".py",
   "mimetype": "text/x-python",
   "name": "python",
   "nbconvert_exporter": "python",
   "pygments_lexer": "ipython2",
   "version": "2.7.6"
  },
  "colab": {
   "provenance": [],
   "gpuType": "T4"
  },
  "accelerator": "GPU"
 },
 "nbformat": 4,
 "nbformat_minor": 5
}
